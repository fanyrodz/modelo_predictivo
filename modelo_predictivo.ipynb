{
  "cells": [
    {
      "cell_type": "markdown",
      "metadata": {
        "id": "view-in-github",
        "colab_type": "text"
      },
      "source": [
        "<a href=\"https://colab.research.google.com/github/fanyrodz/modelo_predictivo/blob/main/modelo_predictivo.ipynb\" target=\"_parent\"><img src=\"https://colab.research.google.com/assets/colab-badge.svg\" alt=\"Open In Colab\"/></a>"
      ]
    },
    {
      "cell_type": "markdown",
      "metadata": {
        "id": "rJTtncv82X6D"
      },
      "source": [
        "## 1. Cargar archivo\n"
      ]
    },
    {
      "cell_type": "code",
      "execution_count": null,
      "metadata": {
        "id": "YeTgrb712X6E"
      },
      "outputs": [],
      "source": [
        "import pandas as pd\n",
        "from sklearn.preprocessing import StandardScaler\n",
        "import numpy as np\n",
        "\n",
        "from sklearn.model_selection import train_test_split\n",
        "from sklearn.preprocessing import OneHotEncoder, StandardScaler\n",
        "from sklearn.compose import ColumnTransformer\n",
        "from sklearn.pipeline import Pipeline\n",
        "from sklearn.linear_model import LogisticRegression\n",
        "from sklearn.impute import SimpleImputer\n",
        "from sklearn.metrics import roc_auc_score, accuracy_score\n",
        "\n",
        "from sklearn.ensemble import RandomForestClassifier\n",
        "from sklearn.pipeline import Pipeline\n",
        "from sklearn.metrics import roc_auc_score, accuracy_score\n",
        "\n",
        "import xgboost as xgb\n",
        "\n",
        "from sklearn.metrics import roc_curve, roc_auc_score, confusion_matrix, classification_report\n",
        "import matplotlib.pyplot as plt\n",
        "import numpy as np\n",
        "\n"
      ]
    },
    {
      "cell_type": "code",
      "execution_count": null,
      "metadata": {
        "id": "NHn8Ef_22X6E"
      },
      "outputs": [],
      "source": [
        "contract = pd.read_csv('/datasets/final_provider/contract.csv')\n",
        "personal = pd.read_csv('/datasets/final_provider/personal.csv')\n",
        "internet = pd.read_csv('/datasets/final_provider/internet.csv')\n",
        "phone = pd.read_csv('/datasets/final_provider/phone.csv')"
      ]
    },
    {
      "cell_type": "markdown",
      "metadata": {
        "id": "fa7sgr102X6E"
      },
      "source": [
        "## 2. Preparación datos"
      ]
    },
    {
      "cell_type": "code",
      "execution_count": null,
      "metadata": {
        "id": "Y5_82zO92X6F",
        "outputId": "45d4351e-05fa-40b7-f55f-edf474370fb8"
      },
      "outputs": [
        {
          "name": "stdout",
          "output_type": "stream",
          "text": [
            "<class 'pandas.core.frame.DataFrame'>\n",
            "RangeIndex: 7043 entries, 0 to 7042\n",
            "Data columns (total 8 columns):\n",
            " #   Column            Non-Null Count  Dtype  \n",
            "---  ------            --------------  -----  \n",
            " 0   customerID        7043 non-null   object \n",
            " 1   BeginDate         7043 non-null   object \n",
            " 2   EndDate           7043 non-null   object \n",
            " 3   Type              7043 non-null   object \n",
            " 4   PaperlessBilling  7043 non-null   object \n",
            " 5   PaymentMethod     7043 non-null   object \n",
            " 6   MonthlyCharges    7043 non-null   float64\n",
            " 7   TotalCharges      7043 non-null   object \n",
            "dtypes: float64(1), object(7)\n",
            "memory usage: 440.3+ KB\n",
            "<class 'pandas.core.frame.DataFrame'>\n",
            "RangeIndex: 7043 entries, 0 to 7042\n",
            "Data columns (total 5 columns):\n",
            " #   Column         Non-Null Count  Dtype \n",
            "---  ------         --------------  ----- \n",
            " 0   customerID     7043 non-null   object\n",
            " 1   gender         7043 non-null   object\n",
            " 2   SeniorCitizen  7043 non-null   int64 \n",
            " 3   Partner        7043 non-null   object\n",
            " 4   Dependents     7043 non-null   object\n",
            "dtypes: int64(1), object(4)\n",
            "memory usage: 275.2+ KB\n",
            "<class 'pandas.core.frame.DataFrame'>\n",
            "RangeIndex: 5517 entries, 0 to 5516\n",
            "Data columns (total 8 columns):\n",
            " #   Column            Non-Null Count  Dtype \n",
            "---  ------            --------------  ----- \n",
            " 0   customerID        5517 non-null   object\n",
            " 1   InternetService   5517 non-null   object\n",
            " 2   OnlineSecurity    5517 non-null   object\n",
            " 3   OnlineBackup      5517 non-null   object\n",
            " 4   DeviceProtection  5517 non-null   object\n",
            " 5   TechSupport       5517 non-null   object\n",
            " 6   StreamingTV       5517 non-null   object\n",
            " 7   StreamingMovies   5517 non-null   object\n",
            "dtypes: object(8)\n",
            "memory usage: 344.9+ KB\n",
            "<class 'pandas.core.frame.DataFrame'>\n",
            "RangeIndex: 6361 entries, 0 to 6360\n",
            "Data columns (total 2 columns):\n",
            " #   Column         Non-Null Count  Dtype \n",
            "---  ------         --------------  ----- \n",
            " 0   customerID     6361 non-null   object\n",
            " 1   MultipleLines  6361 non-null   object\n",
            "dtypes: object(2)\n",
            "memory usage: 99.5+ KB\n"
          ]
        }
      ],
      "source": [
        "contract.info()\n",
        "personal.info()\n",
        "internet.info()\n",
        "phone.info()"
      ]
    },
    {
      "cell_type": "code",
      "execution_count": null,
      "metadata": {
        "id": "VGFrw6gS2X6F",
        "outputId": "eff598ec-720d-4fc2-8fa4-038d3931667c"
      },
      "outputs": [
        {
          "name": "stdout",
          "output_type": "stream",
          "text": [
            "contract: 0 duplicados por customerID\n",
            "personal: 0 duplicados por customerID\n",
            "internet: 0 duplicados por customerID\n",
            "phone: 0 duplicados por customerID\n"
          ]
        }
      ],
      "source": [
        "for name, df in {\n",
        "    \"contract\": contract,\n",
        "    \"personal\": personal,\n",
        "    \"internet\": internet,\n",
        "    \"phone\": phone\n",
        "}.items():\n",
        "    dup_count = df.duplicated(subset=\"customerID\").sum()\n",
        "    print(f\"{name}: {dup_count} duplicados por customerID\")\n",
        "\n",
        "if contract.duplicated(subset=\"customerID\").sum() > 0:\n",
        "    display(contract[contract.duplicated(subset=\"customerID\", keep=False)].sort_values(\"customerID\"))\n"
      ]
    },
    {
      "cell_type": "markdown",
      "metadata": {
        "id": "OLRwj23k2X6F"
      },
      "source": [
        "El numero de datos en contract y personal tienen la misma cantidad de datos, mientras que en internet y phone es menor, por lo que podemos asumir que algunos clientes no tienen internet o telefono, por lo que la unión debe ser con how='left' sobre contract para no perder registros.  \n",
        "También podemos apreciar que no hay duplicados en ningun dataset."
      ]
    },
    {
      "cell_type": "code",
      "execution_count": null,
      "metadata": {
        "id": "6mX4jae42X6G"
      },
      "outputs": [],
      "source": [
        "df = (\n",
        "    contract\n",
        "    .merge(personal, on=\"customerID\", how=\"left\")\n",
        "    .merge(internet, on=\"customerID\", how=\"left\")\n",
        "    .merge(phone, on=\"customerID\", how=\"left\")\n",
        ")\n"
      ]
    },
    {
      "cell_type": "code",
      "execution_count": null,
      "metadata": {
        "id": "r-9nzk8A2X6G",
        "outputId": "4973996d-ac45-42bc-f124-2c2f5db2ff9d"
      },
      "outputs": [
        {
          "name": "stdout",
          "output_type": "stream",
          "text": [
            "Filas en contract: 7043\n",
            "Filas después de unir: 7043\n",
            "Duplicados por customerID: 0\n"
          ]
        }
      ],
      "source": [
        "print(\"Filas en contract:\", len(contract))\n",
        "print(\"Filas después de unir:\", len(df))\n",
        "print(\"Duplicados por customerID:\", df.duplicated(subset=\"customerID\").sum())"
      ]
    },
    {
      "cell_type": "markdown",
      "metadata": {
        "id": "EZxT6I8I2X6G"
      },
      "source": [
        "Con esto confirmamos la integridad de la unión de los datasets"
      ]
    },
    {
      "cell_type": "code",
      "execution_count": null,
      "metadata": {
        "id": "Mmr_RFkC2X6G",
        "outputId": "798b4ea2-4e90-4afe-cfe0-bad78a092443"
      },
      "outputs": [
        {
          "name": "stdout",
          "output_type": "stream",
          "text": [
            "\n",
            "Resumen de tipos y nulos:\n",
            "<class 'pandas.core.frame.DataFrame'>\n",
            "Int64Index: 7043 entries, 0 to 7042\n",
            "Data columns (total 20 columns):\n",
            " #   Column            Non-Null Count  Dtype  \n",
            "---  ------            --------------  -----  \n",
            " 0   customerID        7043 non-null   object \n",
            " 1   BeginDate         7043 non-null   object \n",
            " 2   EndDate           7043 non-null   object \n",
            " 3   Type              7043 non-null   object \n",
            " 4   PaperlessBilling  7043 non-null   object \n",
            " 5   PaymentMethod     7043 non-null   object \n",
            " 6   MonthlyCharges    7043 non-null   float64\n",
            " 7   TotalCharges      7043 non-null   object \n",
            " 8   gender            7043 non-null   object \n",
            " 9   SeniorCitizen     7043 non-null   int64  \n",
            " 10  Partner           7043 non-null   object \n",
            " 11  Dependents        7043 non-null   object \n",
            " 12  InternetService   5517 non-null   object \n",
            " 13  OnlineSecurity    5517 non-null   object \n",
            " 14  OnlineBackup      5517 non-null   object \n",
            " 15  DeviceProtection  5517 non-null   object \n",
            " 16  TechSupport       5517 non-null   object \n",
            " 17  StreamingTV       5517 non-null   object \n",
            " 18  StreamingMovies   5517 non-null   object \n",
            " 19  MultipleLines     6361 non-null   object \n",
            "dtypes: float64(1), int64(1), object(18)\n",
            "memory usage: 1.1+ MB\n",
            "None\n",
            "\n",
            "Valores nulos por columna:\n",
            "StreamingMovies     1526\n",
            "StreamingTV         1526\n",
            "TechSupport         1526\n",
            "DeviceProtection    1526\n",
            "OnlineBackup        1526\n",
            "OnlineSecurity      1526\n",
            "InternetService     1526\n",
            "MultipleLines        682\n",
            "BeginDate              0\n",
            "Dependents             0\n",
            "customerID             0\n",
            "SeniorCitizen          0\n",
            "gender                 0\n",
            "TotalCharges           0\n",
            "MonthlyCharges         0\n",
            "PaymentMethod          0\n",
            "PaperlessBilling       0\n",
            "Type                   0\n",
            "EndDate                0\n",
            "Partner                0\n",
            "dtype: int64\n"
          ]
        }
      ],
      "source": [
        "print(\"\\nResumen de tipos y nulos:\")\n",
        "print(df.info())\n",
        "print(\"\\nValores nulos por columna:\")\n",
        "print(df.isnull().sum().sort_values(ascending=False))"
      ]
    },
    {
      "cell_type": "markdown",
      "metadata": {
        "id": "YqO71cke2X6G"
      },
      "source": [
        "Hay valores nulos esperados:\n",
        "\n",
        "- 1,526 nulos en todas las columnas de Internet y servicios relacionados → son clientes que no tienen Internet.\n",
        "\n",
        "- 682 nulos en MultipleLines → clientes que no tienen teléfono fijo.\n",
        "\n",
        "Esto es totalmente lógico, ya que algunos clientes solo contratan un servicio. No es un problema de datos, sino información válida."
      ]
    },
    {
      "cell_type": "markdown",
      "metadata": {
        "id": "jzs2a9Bd2X6G"
      },
      "source": [
        "## 3. Preprocesamiento"
      ]
    },
    {
      "cell_type": "code",
      "execution_count": null,
      "metadata": {
        "id": "BTI0MkWc2X6H"
      },
      "outputs": [],
      "source": [
        "# Reemplazar nulos de servicios con \"No\"\n",
        "cols_internet = [\n",
        "    \"InternetService\", \"OnlineSecurity\", \"OnlineBackup\",\n",
        "    \"DeviceProtection\", \"TechSupport\", \"StreamingTV\", \"StreamingMovies\"\n",
        "]\n",
        "df[cols_internet] = df[cols_internet].fillna(\"No\")\n",
        "\n",
        "# Reemplazar nulos en servicio telefónico\n",
        "df[\"MultipleLines\"] = df[\"MultipleLines\"].fillna(\"No\")\n",
        "\n",
        "# Convertir fechas a datetime\n",
        "df[\"BeginDate\"] = pd.to_datetime(df[\"BeginDate\"])\n",
        "df[\"EndDate\"] = df[\"EndDate\"].replace(\"No\", pd.NaT)  # \"No\" significa cliente activo\n",
        "df[\"EndDate\"] = pd.to_datetime(df[\"EndDate\"])\n",
        "\n",
        "# Asegurar que TotalCharges sea numérico\n",
        "df[\"TotalCharges\"] = pd.to_numeric(df[\"TotalCharges\"], errors=\"coerce\")\n"
      ]
    },
    {
      "cell_type": "code",
      "execution_count": null,
      "metadata": {
        "id": "cHpzWqsh2X6H"
      },
      "outputs": [],
      "source": [
        "# 1 = cliente cancelado\n",
        "# 2 = cliente activo\n",
        "df[\"Churn\"] = df[\"EndDate\"].notna().astype(int)\n"
      ]
    },
    {
      "cell_type": "code",
      "execution_count": null,
      "metadata": {
        "id": "AlHLSaNw2X6H"
      },
      "outputs": [],
      "source": [
        "# Eliminar columnas que no se usan para el modelo directamente\n",
        "df_model = df.drop(columns=[\"customerID\", \"BeginDate\", \"EndDate\"])\n",
        "\n",
        "# Identificar variables categóricas y numéricas\n",
        "cat_cols = df_model.select_dtypes(include=\"object\").columns.tolist()\n",
        "num_cols = df_model.select_dtypes(exclude=\"object\").drop(columns=[\"Churn\"]).columns.tolist()\n",
        "\n",
        "# One-Hot Encoding\n",
        "df_encoded = pd.get_dummies(df_model, columns=cat_cols, drop_first=True)\n"
      ]
    },
    {
      "cell_type": "code",
      "execution_count": null,
      "metadata": {
        "id": "sP_jKJBL2X6H"
      },
      "outputs": [],
      "source": [
        "scaler = StandardScaler()\n",
        "df_encoded[num_cols] = scaler.fit_transform(df_encoded[num_cols])"
      ]
    },
    {
      "cell_type": "markdown",
      "metadata": {
        "id": "yLyogM6I2X6H"
      },
      "source": [
        "## 4. Feature Engineering"
      ]
    },
    {
      "cell_type": "code",
      "execution_count": null,
      "metadata": {
        "id": "MncUPCS02X6H"
      },
      "outputs": [],
      "source": [
        "max_date = df[\"BeginDate\"].max()\n",
        "\n",
        "df[\"ContractDuration\"] = np.where(\n",
        "    df[\"EndDate\"].notna(),\n",
        "    (df[\"EndDate\"] - df[\"BeginDate\"]).dt.days,\n",
        "    (max_date - df[\"BeginDate\"]).dt.days\n",
        ")"
      ]
    },
    {
      "cell_type": "code",
      "execution_count": null,
      "metadata": {
        "id": "0jjA3sfj2X6H"
      },
      "outputs": [],
      "source": [
        "service_cols = [\n",
        "    \"MultipleLines\", \"InternetService\", \"OnlineSecurity\", \"OnlineBackup\",\n",
        "    \"DeviceProtection\", \"TechSupport\", \"StreamingTV\", \"StreamingMovies\"\n",
        "]\n",
        "\n",
        "df[\"NumServices\"] = df[service_cols].apply(lambda x: sum(val != \"No\" for val in x), axis=1)"
      ]
    },
    {
      "cell_type": "code",
      "execution_count": null,
      "metadata": {
        "id": "jDydSSbY2X6H"
      },
      "outputs": [],
      "source": [
        "df[\"ChargesPerService\"] = df[\"MonthlyCharges\"] / df[\"NumServices\"].replace(0, 1)"
      ]
    },
    {
      "cell_type": "code",
      "execution_count": null,
      "metadata": {
        "id": "f4rnoG4y2X6H"
      },
      "outputs": [],
      "source": [
        "contract_map = {\"Month-to-month\": 0, \"One year\": 1, \"Two year\": 2}\n",
        "df[\"ContractTypeNum\"] = df[\"Type\"].map(contract_map)"
      ]
    },
    {
      "cell_type": "code",
      "execution_count": null,
      "metadata": {
        "id": "g-X65DvW2X6H",
        "outputId": "09f14404-4d4a-422a-99cc-9048aa638bd3"
      },
      "outputs": [
        {
          "data": {
            "text/html": [
              "<div>\n",
              "<style scoped>\n",
              "    .dataframe tbody tr th:only-of-type {\n",
              "        vertical-align: middle;\n",
              "    }\n",
              "\n",
              "    .dataframe tbody tr th {\n",
              "        vertical-align: top;\n",
              "    }\n",
              "\n",
              "    .dataframe thead th {\n",
              "        text-align: right;\n",
              "    }\n",
              "</style>\n",
              "<table border=\"1\" class=\"dataframe\">\n",
              "  <thead>\n",
              "    <tr style=\"text-align: right;\">\n",
              "      <th></th>\n",
              "      <th>ContractDuration</th>\n",
              "      <th>NumServices</th>\n",
              "      <th>ChargesPerService</th>\n",
              "      <th>ContractTypeNum</th>\n",
              "    </tr>\n",
              "  </thead>\n",
              "  <tbody>\n",
              "    <tr>\n",
              "      <th>0</th>\n",
              "      <td>31.0</td>\n",
              "      <td>2</td>\n",
              "      <td>14.925000</td>\n",
              "      <td>0</td>\n",
              "    </tr>\n",
              "    <tr>\n",
              "      <th>1</th>\n",
              "      <td>1036.0</td>\n",
              "      <td>3</td>\n",
              "      <td>18.983333</td>\n",
              "      <td>1</td>\n",
              "    </tr>\n",
              "    <tr>\n",
              "      <th>2</th>\n",
              "      <td>61.0</td>\n",
              "      <td>3</td>\n",
              "      <td>17.950000</td>\n",
              "      <td>0</td>\n",
              "    </tr>\n",
              "    <tr>\n",
              "      <th>3</th>\n",
              "      <td>1371.0</td>\n",
              "      <td>4</td>\n",
              "      <td>10.575000</td>\n",
              "      <td>1</td>\n",
              "    </tr>\n",
              "    <tr>\n",
              "      <th>4</th>\n",
              "      <td>61.0</td>\n",
              "      <td>1</td>\n",
              "      <td>70.700000</td>\n",
              "      <td>0</td>\n",
              "    </tr>\n",
              "  </tbody>\n",
              "</table>\n",
              "</div>"
            ],
            "text/plain": [
              "   ContractDuration  NumServices  ChargesPerService  ContractTypeNum\n",
              "0              31.0            2          14.925000                0\n",
              "1            1036.0            3          18.983333                1\n",
              "2              61.0            3          17.950000                0\n",
              "3            1371.0            4          10.575000                1\n",
              "4              61.0            1          70.700000                0"
            ]
          },
          "execution_count": 16,
          "metadata": {},
          "output_type": "execute_result"
        }
      ],
      "source": [
        "df[[\"ContractDuration\", \"NumServices\", \"ChargesPerService\", \"ContractTypeNum\"]].head()"
      ]
    },
    {
      "cell_type": "code",
      "execution_count": null,
      "metadata": {
        "id": "l8_j_C-j2X6H",
        "outputId": "065f84db-e2a5-4329-80ce-201f57fb4b16"
      },
      "outputs": [
        {
          "name": "stdout",
          "output_type": "stream",
          "text": [
            "\n",
            "Vista previa de las nuevas variables creadas:\n",
            "   ContractDuration  NumServices  ChargesPerService  ContractTypeNum\n",
            "0              31.0            2          14.925000                0\n",
            "1            1036.0            3          18.983333                1\n",
            "2              61.0            3          17.950000                0\n",
            "3            1371.0            4          10.575000                1\n",
            "4              61.0            1          70.700000                0\n",
            "\n",
            "Valores nulos en las nuevas variables:\n",
            "ContractDuration     0\n",
            "NumServices          0\n",
            "ChargesPerService    0\n",
            "ContractTypeNum      0\n",
            "dtype: int64\n",
            "\n",
            "Resumen estadístico de las nuevas variables:\n",
            "       ContractDuration  NumServices  ChargesPerService  ContractTypeNum\n",
            "count       7043.000000  7043.000000        7043.000000      7043.000000\n",
            "mean         985.996166     3.243078          22.591220         0.690473\n",
            "std          747.587844     2.307141          11.550318         0.833755\n",
            "min            0.000000     0.000000           8.650000         0.000000\n",
            "25%          273.000000     1.000000          15.835714         0.000000\n",
            "50%          883.000000     3.000000          19.900000         0.000000\n",
            "75%         1676.000000     5.000000          24.900000         1.000000\n",
            "max         2191.000000     8.000000          72.250000         2.000000\n"
          ]
        }
      ],
      "source": [
        "# Revisar las nuevas columnas\n",
        "print(\"\\nVista previa de las nuevas variables creadas:\")\n",
        "print(df[[\"ContractDuration\", \"NumServices\", \"ChargesPerService\", \"ContractTypeNum\"]].head())\n",
        "\n",
        "# Comprobar si hay valores nulos en las nuevas variables\n",
        "print(\"\\nValores nulos en las nuevas variables:\")\n",
        "print(df[[\"ContractDuration\", \"NumServices\", \"ChargesPerService\", \"ContractTypeNum\"]].isnull().sum())\n",
        "\n",
        "# Estadísticas básicas para detectar valores extraños\n",
        "print(\"\\nResumen estadístico de las nuevas variables:\")\n",
        "print(df[[\"ContractDuration\", \"NumServices\", \"ChargesPerService\", \"ContractTypeNum\"]].describe())\n"
      ]
    },
    {
      "cell_type": "markdown",
      "metadata": {
        "id": "8uRRDpq32X6I"
      },
      "source": [
        "Con esta información comprobamos que no hay valores nulos en las nuevas variables (ContractDuration, NumServices, ChargesPerService, ContractTypeNum) y que los valores tienen sentido:\n",
        "\n",
        "- ContractDuration: desde 0 días (clientes nuevos) hasta ~6 años (2191 días).\n",
        "\n",
        "- NumServices: de 0 a 8 (coincide con la cantidad de servicios posibles).\n",
        "\n",
        "- ChargesPerService: valores positivos, sin outliers extremos raros.\n",
        "\n",
        "- ContractTypeNum: 0, 1, 2 → correcto para contrato mes a mes, 1 año, 2 años."
      ]
    },
    {
      "cell_type": "markdown",
      "metadata": {
        "id": "Vstq9Nvb2X6I"
      },
      "source": [
        "## 5. Modelado y validación"
      ]
    },
    {
      "cell_type": "code",
      "execution_count": null,
      "metadata": {
        "id": "ZITbXEfU2X6I"
      },
      "outputs": [],
      "source": [
        "X = df.drop(columns=[\"Churn\", \"customerID\", \"BeginDate\", \"EndDate\"])\n",
        "y = df[\"Churn\"]"
      ]
    },
    {
      "cell_type": "code",
      "execution_count": null,
      "metadata": {
        "id": "kL8EaA-a2X6I"
      },
      "outputs": [],
      "source": [
        "X_train, X_test, y_train, y_test = train_test_split(\n",
        "    X, y, test_size=0.20, stratify=y, random_state=42\n",
        ")"
      ]
    },
    {
      "cell_type": "code",
      "execution_count": null,
      "metadata": {
        "id": "c-F5QSyK2X6I"
      },
      "outputs": [],
      "source": [
        "cat_cols = X.select_dtypes(include=\"object\").columns.tolist()\n",
        "num_cols = X.select_dtypes(exclude=\"object\").columns.tolist()"
      ]
    },
    {
      "cell_type": "code",
      "execution_count": null,
      "metadata": {
        "id": "rfzDDtfM2X6I"
      },
      "outputs": [],
      "source": [
        "num_pipe = Pipeline([\n",
        "    (\"imputer\", SimpleImputer(strategy=\"median\")),\n",
        "    (\"scaler\", StandardScaler()),\n",
        "])\n",
        "\n",
        "cat_pipe = Pipeline([\n",
        "    (\"imputer\", SimpleImputer(strategy=\"most_frequent\")),\n",
        "    # IMPORTANTE: en tu versión usa 'sparse=False' (no 'sparse_output')\n",
        "    (\"ohe\", OneHotEncoder(handle_unknown=\"ignore\", sparse=False)),\n",
        "])\n",
        "\n",
        "preprocessor = ColumnTransformer([\n",
        "    (\"num\", num_pipe, num_cols),\n",
        "    (\"cat\", cat_pipe, cat_cols),\n",
        "], remainder=\"drop\")"
      ]
    },
    {
      "cell_type": "code",
      "execution_count": null,
      "metadata": {
        "id": "_Ulqx1Xr2X6I"
      },
      "outputs": [],
      "source": [
        "baseline_model = Pipeline([\n",
        "    (\"preprocessor\", preprocessor),\n",
        "    (\"classifier\", LogisticRegression(max_iter=1000))  # si hay aviso, usar solver=\"liblinear\"\n",
        "])"
      ]
    },
    {
      "cell_type": "code",
      "execution_count": null,
      "metadata": {
        "id": "wL3KZlLb2X6I",
        "outputId": "7690c4eb-7ab1-4bcc-f387-73a94c2343af"
      },
      "outputs": [
        {
          "data": {
            "text/plain": [
              "Pipeline(steps=[('preprocessor',\n",
              "                 ColumnTransformer(transformers=[('num',\n",
              "                                                  Pipeline(steps=[('imputer',\n",
              "                                                                   SimpleImputer(strategy='median')),\n",
              "                                                                  ('scaler',\n",
              "                                                                   StandardScaler())]),\n",
              "                                                  ['MonthlyCharges',\n",
              "                                                   'TotalCharges',\n",
              "                                                   'SeniorCitizen',\n",
              "                                                   'ContractDuration',\n",
              "                                                   'NumServices',\n",
              "                                                   'ChargesPerService',\n",
              "                                                   'ContractTypeNum']),\n",
              "                                                 ('cat',\n",
              "                                                  Pipeline(steps=[('imputer',\n",
              "                                                                   SimpleImputer(strategy='most_frequent')),\n",
              "                                                                  ('ohe',\n",
              "                                                                   OneHotEncoder(handle_unknown='ignore',\n",
              "                                                                                 sparse=False))]),\n",
              "                                                  ['Type', 'PaperlessBilling',\n",
              "                                                   'PaymentMethod', 'gender',\n",
              "                                                   'Partner', 'Dependents',\n",
              "                                                   'InternetService',\n",
              "                                                   'OnlineSecurity',\n",
              "                                                   'OnlineBackup',\n",
              "                                                   'DeviceProtection',\n",
              "                                                   'TechSupport', 'StreamingTV',\n",
              "                                                   'StreamingMovies',\n",
              "                                                   'MultipleLines'])])),\n",
              "                ('classifier', LogisticRegression(max_iter=1000))])"
            ]
          },
          "execution_count": 23,
          "metadata": {},
          "output_type": "execute_result"
        }
      ],
      "source": [
        "baseline_model.fit(X_train, y_train)"
      ]
    },
    {
      "cell_type": "code",
      "execution_count": null,
      "metadata": {
        "id": "e0h0T0pc2X6I",
        "outputId": "5d8545a4-4bb1-4eda-8367-1c2f1cfd0e56"
      },
      "outputs": [
        {
          "name": "stdout",
          "output_type": "stream",
          "text": [
            "AUC-ROC (baseline LR): 0.8420\n",
            "Accuracy (baseline LR): 0.8077\n"
          ]
        }
      ],
      "source": [
        "y_pred_proba = baseline_model.predict_proba(X_test)[:, 1]\n",
        "y_pred = baseline_model.predict(X_test)\n",
        "\n",
        "auc = roc_auc_score(y_test, y_pred_proba)\n",
        "acc = accuracy_score(y_test, y_pred)\n",
        "\n",
        "print(f\"AUC-ROC (baseline LR): {auc:.4f}\")\n",
        "print(f\"Accuracy (baseline LR): {acc:.4f}\")\n"
      ]
    },
    {
      "cell_type": "code",
      "execution_count": null,
      "metadata": {
        "id": "_vMBQV6W2X6I",
        "outputId": "17c17f8a-6bc7-4b93-8c56-b337db903e9f"
      },
      "outputs": [
        {
          "name": "stdout",
          "output_type": "stream",
          "text": [
            "AUC-ROC (RF rápido): 0.8498566224908937\n",
            "Accuracy (RF rápido): 0.7913413768630234\n"
          ]
        }
      ],
      "source": [
        "rf_fast = Pipeline([\n",
        "    (\"preprocessor\", preprocessor),  # el mismo del baseline\n",
        "    (\"classifier\", RandomForestClassifier(\n",
        "        n_estimators=400,\n",
        "        max_depth=None,\n",
        "        min_samples_split=5,\n",
        "        min_samples_leaf=2,\n",
        "        max_features=\"sqrt\",\n",
        "        class_weight=\"balanced\",\n",
        "        n_jobs=-1,\n",
        "        random_state=42\n",
        "    ))\n",
        "])\n",
        "\n",
        "rf_fast.fit(X_train, y_train)\n",
        "proba = rf_fast.predict_proba(X_test)[:, 1]\n",
        "pred  = rf_fast.predict(X_test)\n",
        "\n",
        "print(\"AUC-ROC (RF rápido):\", roc_auc_score(y_test, proba))\n",
        "print(\"Accuracy (RF rápido):\", accuracy_score(y_test, pred))\n"
      ]
    },
    {
      "cell_type": "code",
      "execution_count": null,
      "metadata": {
        "id": "BF4hAZGT2X6J",
        "outputId": "7f83ab94-6236-4c78-c072-34662ede69f2"
      },
      "outputs": [
        {
          "name": "stdout",
          "output_type": "stream",
          "text": [
            "scale_pos_weight: 2.769\n"
          ]
        },
        {
          "name": "stderr",
          "output_type": "stream",
          "text": [
            "/.venv/lib/python3.9/site-packages/xgboost/sklearn.py:1224: UserWarning: The use of label encoder in XGBClassifier is deprecated and will be removed in a future release. To remove this warning, do the following: 1) Pass option use_label_encoder=False when constructing XGBClassifier object; and 2) Encode your labels (y) as integers starting with 0, i.e. 0, 1, 2, ..., [num_class - 1].\n",
            "  warnings.warn(label_encoder_deprecation_msg, UserWarning)\n"
          ]
        },
        {
          "name": "stdout",
          "output_type": "stream",
          "text": [
            "AUC-ROC (XGBoost): 0.9048\n",
            "Accuracy (XGBoost): 0.8361\n",
            "Best n_estimators (after early stopping): 990\n"
          ]
        }
      ],
      "source": [
        "cat_cols = X.select_dtypes(include=\"object\").columns.tolist()\n",
        "num_cols = X.select_dtypes(exclude=\"object\").columns.tolist()\n",
        "\n",
        "num_pipe_tree = Pipeline([\n",
        "    (\"imputer\", SimpleImputer(strategy=\"median\")),\n",
        "])\n",
        "\n",
        "cat_pipe_tree = Pipeline([\n",
        "    (\"imputer\", SimpleImputer(strategy=\"most_frequent\")),\n",
        "    (\"ohe\", OneHotEncoder(handle_unknown=\"ignore\", sparse=False)),\n",
        "])\n",
        "\n",
        "preprocessor_tree = ColumnTransformer([\n",
        "    (\"num\", num_pipe_tree, num_cols),\n",
        "    (\"cat\", cat_pipe_tree, cat_cols),\n",
        "], remainder=\"drop\")\n",
        "\n",
        "X_train_proc = preprocessor_tree.fit_transform(X_train)\n",
        "X_test_proc  = preprocessor_tree.transform(X_test)\n",
        "\n",
        "pos = y_train.sum()\n",
        "neg = len(y_train) - pos\n",
        "scale_pos_weight = neg / pos if pos > 0 else 1.0\n",
        "print(\"scale_pos_weight:\", round(scale_pos_weight, 3))\n",
        "\n",
        "xgb_model = xgb.XGBClassifier(\n",
        "    n_estimators=1000,\n",
        "    learning_rate=0.05,\n",
        "    max_depth=4,\n",
        "    subsample=0.8,\n",
        "    colsample_bytree=0.8,\n",
        "    reg_lambda=1.0,\n",
        "    random_state=42,\n",
        "    n_jobs=-1,\n",
        "    tree_method=\"hist\",\n",
        "    objective=\"binary:logistic\",\n",
        "    eval_metric=\"auc\",\n",
        "    scale_pos_weight=scale_pos_weight\n",
        ")\n",
        "\n",
        "xgb_model.fit(\n",
        "    X_train_proc, y_train,\n",
        "    eval_set=[(X_test_proc, y_test)],\n",
        "    verbose=False,\n",
        "    early_stopping_rounds=50\n",
        ")\n",
        "\n",
        "proba_xgb = xgb_model.predict_proba(X_test_proc)[:, 1]\n",
        "pred_xgb  = (proba_xgb >= 0.5).astype(int)\n",
        "\n",
        "auc_xgb = roc_auc_score(y_test, proba_xgb)\n",
        "acc_xgb = accuracy_score(y_test, pred_xgb)\n",
        "\n",
        "print(f\"AUC-ROC (XGBoost): {auc_xgb:.4f}\")\n",
        "print(f\"Accuracy (XGBoost): {acc_xgb:.4f}\")\n",
        "print(\"Best n_estimators (after early stopping):\", xgb_model.best_iteration+1 if hasattr(xgb_model, \"best_iteration\") else \"N/A\")\n"
      ]
    },
    {
      "cell_type": "markdown",
      "metadata": {
        "id": "4XUQBaeQ2X6N"
      },
      "source": [
        "## 6. Evaluación"
      ]
    },
    {
      "cell_type": "code",
      "execution_count": null,
      "metadata": {
        "id": "rWuir6ko2X6N",
        "outputId": "20e741bc-73fa-4718-f09d-1ca7e367cf0a"
      },
      "outputs": [
        {
          "data": {
            "image/png": "[encoded data removed]",
            "text/plain": [
              "<Figure size 600x500 with 1 Axes>"
            ]
          },
          "metadata": {},
          "output_type": "display_data"
        }
      ],
      "source": [
        "proba = proba_xgb\n",
        "auc = roc_auc_score(y_test, proba)\n",
        "\n",
        "fpr, tpr, thr = roc_curve(y_test, proba)\n",
        "plt.figure(figsize=(6,5))\n",
        "plt.plot(fpr, tpr, label=f\"AUC = {auc:.3f}\")\n",
        "plt.plot([0,1], [0,1], linestyle=\"--\")\n",
        "plt.xlabel(\"FPR\")\n",
        "plt.ylabel(\"TPR\")\n",
        "plt.title(\"ROC curve\")\n",
        "plt.legend()\n",
        "plt.show()\n"
      ]
    },
    {
      "cell_type": "code",
      "execution_count": null,
      "metadata": {
        "id": "6ic_e4S62X6O",
        "outputId": "7e07a404-cf4a-4190-e8d4-c2f65e5e0491"
      },
      "outputs": [
        {
          "name": "stdout",
          "output_type": "stream",
          "text": [
            "Umbral óptimo (Youden J): 0.3801\n",
            "Matriz de confusión (umbral óptimo):\n",
            " [[829 206]\n",
            " [ 61 313]]\n",
            "\n",
            "Classification report (umbral óptimo):\n",
            "              precision    recall  f1-score   support\n",
            "\n",
            "           0      0.931     0.801     0.861      1035\n",
            "           1      0.603     0.837     0.701       374\n",
            "\n",
            "    accuracy                          0.811      1409\n",
            "   macro avg      0.767     0.819     0.781      1409\n",
            "weighted avg      0.844     0.811     0.819      1409\n",
            "\n"
          ]
        }
      ],
      "source": [
        "j_scores = tpr - fpr\n",
        "best_ix = np.argmax(j_scores)\n",
        "best_thr = thr[best_ix]\n",
        "print(\"Umbral óptimo (Youden J):\", round(best_thr, 4))\n",
        "\n",
        "pred_opt = (proba >= best_thr).astype(int)\n",
        "cm = confusion_matrix(y_test, pred_opt)\n",
        "print(\"Matriz de confusión (umbral óptimo):\\n\", cm)\n",
        "print(\"\\nClassification report (umbral óptimo):\")\n",
        "print(classification_report(y_test, pred_opt, digits=3))"
      ]
    },
    {
      "cell_type": "code",
      "execution_count": null,
      "metadata": {
        "id": "NYInSr2b2X6O",
        "outputId": "e3e5d3e3-80fc-44b2-bd26-929d6758cfdf"
      },
      "outputs": [
        {
          "name": "stdout",
          "output_type": "stream",
          "text": [
            "Type_Month-to-month                                 0.2699\n",
            "ContractTypeNum                                     0.1564\n",
            "InternetService_Fiber optic                         0.1209\n",
            "InternetService_No                                  0.0610\n",
            "StreamingMovies_Yes                                 0.0284\n",
            "StreamingTV_Yes                                     0.0265\n",
            "StreamingMovies_No                                  0.0213\n",
            "PaymentMethod_Electronic check                      0.0195\n",
            "ContractDuration                                    0.0179\n",
            "Type_Two year                                       0.0157\n",
            "TechSupport_Yes                                     0.0135\n",
            "InternetService_DSL                                 0.0134\n",
            "StreamingTV_No                                      0.0132\n",
            "Type_One year                                       0.0127\n",
            "OnlineSecurity_Yes                                  0.0116\n"
          ]
        }
      ],
      "source": [
        "\n",
        "num_features = num_cols\n",
        "\n",
        "ohe = preprocessor_tree.named_transformers_[\"cat\"].named_steps[\"ohe\"]\n",
        "if hasattr(ohe, \"get_feature_names_out\"):\n",
        "    cat_features = ohe.get_feature_names_out(cat_cols)\n",
        "else:\n",
        "    cat_features = ohe.get_feature_names(cat_cols)\n",
        "\n",
        "feature_names = np.concatenate([np.array(num_features, dtype=object), np.array(cat_features, dtype=object)])\n",
        "\n",
        "importances = xgb_model.feature_importances_\n",
        "assert len(importances) == len(feature_names), f\"{len(importances)} importancias vs {len(feature_names)} nombres\"\n",
        "\n",
        "top_idx = np.argsort(importances)[::-1][:15]\n",
        "for i in top_idx:\n",
        "    print(f\"{feature_names[i]:50s}  {importances[i]:.4f}\")\n"
      ]
    },
    {
      "cell_type": "code",
      "execution_count": null,
      "metadata": {
        "id": "pkwnsEIi2X6O",
        "outputId": "045233aa-5257-42af-d14f-25f697acab2c"
      },
      "outputs": [
        {
          "name": "stdout",
          "output_type": "stream",
          "text": [
            " Modelo guardado en: models/churn_xgb_artifact.pkl\n",
            "¿Probas iguales a las previas?  True\n",
            "AUC-ROC con cargado: 0.9047689167893772\n"
          ]
        }
      ],
      "source": [
        "\n",
        "Path(\"models\").mkdir(parents=True, exist_ok=True)\n",
        "\n",
        "artifact = {\n",
        "    \"preprocessor\": preprocessor_tree,\n",
        "    \"model\": xgb_model\n",
        "}\n",
        "joblib.dump(artifact, \"models/churn_xgb_artifact.pkl\", compress=3)\n",
        "print(\" Modelo guardado en: models/churn_xgb_artifact.pkl\")\n",
        "\n",
        "loaded = joblib.load(\"models/churn_xgb_artifact.pkl\")\n",
        "X_test_proc_chk = loaded[\"preprocessor\"].transform(X_test)\n",
        "proba_loaded = loaded[\"model\"].predict_proba(X_test_proc_chk)[:, 1]\n",
        "\n",
        "print(\"¿Probas iguales a las previas? \", np.allclose(proba_loaded, proba_xgb))\n",
        "print(\"AUC-ROC con cargado:\", roc_auc_score(y_test, proba_loaded))\n"
      ]
    },
    {
      "cell_type": "code",
      "execution_count": null,
      "metadata": {
        "id": "d4axZ8Bq2X6O"
      },
      "outputs": [],
      "source": []
    }
  ],
  "metadata": {
    "kernelspec": {
      "display_name": "Python 3 (ipykernel)",
      "language": "python",
      "name": "python3"
    },
    "language_info": {
      "codemirror_mode": {
        "name": "ipython",
        "version": 3
      },
      "file_extension": ".py",
      "mimetype": "text/x-python",
      "name": "python",
      "nbconvert_exporter": "python",
      "pygments_lexer": "ipython3",
      "version": "3.9.23"
    },
    "colab": {
      "provenance": [],
      "include_colab_link": true
    }
  },
  "nbformat": 4,
  "nbformat_minor": 0
}